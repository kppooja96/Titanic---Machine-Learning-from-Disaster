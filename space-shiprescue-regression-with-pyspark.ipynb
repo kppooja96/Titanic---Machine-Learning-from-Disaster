{
 "cells": [
  {
   "cell_type": "code",
   "execution_count": 1,
   "id": "d85e379b",
   "metadata": {
    "_cell_guid": "b1076dfc-b9ad-4769-8c92-a6c4dae69d19",
    "_uuid": "8f2839f25d086af736a60e9eeb907d3b93b6e0e5",
    "execution": {
     "iopub.execute_input": "2022-11-04T23:11:20.736499Z",
     "iopub.status.busy": "2022-11-04T23:11:20.735283Z",
     "iopub.status.idle": "2022-11-04T23:12:13.525348Z",
     "shell.execute_reply": "2022-11-04T23:12:13.523823Z"
    },
    "papermill": {
     "duration": 52.807488,
     "end_time": "2022-11-04T23:12:13.528666",
     "exception": false,
     "start_time": "2022-11-04T23:11:20.721178",
     "status": "completed"
    },
    "tags": []
   },
   "outputs": [
    {
     "name": "stdout",
     "output_type": "stream",
     "text": [
      "Collecting pyspark\r\n",
      "  Downloading pyspark-3.3.1.tar.gz (281.4 MB)\r\n",
      "\u001b[2K     \u001b[90m━━━━━━━━━━━━━━━━━━━━━━━━━━━━━━━━━━━━━━━\u001b[0m \u001b[32m281.4/281.4 MB\u001b[0m \u001b[31m3.9 MB/s\u001b[0m eta \u001b[36m0:00:00\u001b[0m\r\n",
      "\u001b[?25h  Preparing metadata (setup.py) ... \u001b[?25l-\b \b\\\b \bdone\r\n",
      "\u001b[?25hCollecting py4j==0.10.9.5\r\n",
      "  Downloading py4j-0.10.9.5-py2.py3-none-any.whl (199 kB)\r\n",
      "\u001b[2K     \u001b[90m━━━━━━━━━━━━━━━━━━━━━━━━━━━━━━━━━━━━━━\u001b[0m \u001b[32m199.7/199.7 kB\u001b[0m \u001b[31m13.2 MB/s\u001b[0m eta \u001b[36m0:00:00\u001b[0m\r\n",
      "\u001b[?25hBuilding wheels for collected packages: pyspark\r\n",
      "  Building wheel for pyspark (setup.py) ... \u001b[?25l-\b \b\\\b \b|\b \b/\b \b-\b \b\\\b \b|\b \b/\b \b-\b \b\\\b \b|\b \b/\b \b-\b \b\\\b \b|\b \b/\b \b-\b \b\\\b \b|\b \b/\b \b-\b \b\\\b \b|\b \b/\b \b-\b \b\\\b \b|\b \b/\b \b-\b \b\\\b \b|\b \b/\b \b-\b \b\\\b \b|\b \b/\b \b-\b \b\\\b \b|\b \b/\b \b-\b \b\\\b \b|\b \b/\b \b-\b \b\\\b \b|\b \b/\b \b-\b \b\\\b \b|\b \b/\b \b-\b \b\\\b \b|\b \b/\b \b-\b \b\\\b \b|\b \b/\b \bdone\r\n",
      "\u001b[?25h  Created wheel for pyspark: filename=pyspark-3.3.1-py2.py3-none-any.whl size=281845513 sha256=85d5fd52fb348e225d072271dcaa8af07cc92a6731515fe69e6ff65ef482e65a\r\n",
      "  Stored in directory: /root/.cache/pip/wheels/42/59/f5/79a5bf931714dcd201b26025347785f087370a10a3329a899c\r\n",
      "Successfully built pyspark\r\n",
      "Installing collected packages: py4j, pyspark\r\n",
      "  Attempting uninstall: py4j\r\n",
      "    Found existing installation: py4j 0.10.9.7\r\n",
      "    Uninstalling py4j-0.10.9.7:\r\n",
      "      Successfully uninstalled py4j-0.10.9.7\r\n",
      "Successfully installed py4j-0.10.9.5 pyspark-3.3.1\r\n",
      "\u001b[33mWARNING: Running pip as the 'root' user can result in broken permissions and conflicting behaviour with the system package manager. It is recommended to use a virtual environment instead: https://pip.pypa.io/warnings/venv\u001b[0m\u001b[33m\r\n",
      "\u001b[0m"
     ]
    }
   ],
   "source": [
    "!pip install pyspark"
   ]
  },
  {
   "cell_type": "code",
   "execution_count": 2,
   "id": "214d8523",
   "metadata": {
    "execution": {
     "iopub.execute_input": "2022-11-04T23:12:13.580398Z",
     "iopub.status.busy": "2022-11-04T23:12:13.579945Z",
     "iopub.status.idle": "2022-11-04T23:12:13.820121Z",
     "shell.execute_reply": "2022-11-04T23:12:13.818897Z"
    },
    "papermill": {
     "duration": 0.269036,
     "end_time": "2022-11-04T23:12:13.823213",
     "exception": false,
     "start_time": "2022-11-04T23:12:13.554177",
     "status": "completed"
    },
    "tags": []
   },
   "outputs": [],
   "source": [
    "import os\n",
    "import pandas as pd\n",
    "import numpy as np\n",
    "\n",
    "from pyspark import SparkConf, SparkContext\n",
    "from pyspark.sql import SparkSession, SQLContext\n",
    "\n",
    "from pyspark.sql.types import *\n",
    "import pyspark.sql.functions as F\n",
    "from pyspark.sql.functions import udf, col\n",
    "\n",
    "from pyspark.ml.regression import LinearRegression\n",
    "from pyspark.mllib.evaluation import RegressionMetrics\n",
    "\n",
    "from pyspark.ml.tuning import ParamGridBuilder, CrossValidator, CrossValidatorModel\n",
    "from pyspark.ml.feature import VectorAssembler, StandardScaler\n",
    "from pyspark.ml.evaluation import RegressionEvaluator"
   ]
  },
  {
   "cell_type": "code",
   "execution_count": 3,
   "id": "7440bd3e",
   "metadata": {
    "execution": {
     "iopub.execute_input": "2022-11-04T23:12:13.872390Z",
     "iopub.status.busy": "2022-11-04T23:12:13.871923Z",
     "iopub.status.idle": "2022-11-04T23:12:15.070452Z",
     "shell.execute_reply": "2022-11-04T23:12:15.068310Z"
    },
    "papermill": {
     "duration": 1.22633,
     "end_time": "2022-11-04T23:12:15.073527",
     "exception": false,
     "start_time": "2022-11-04T23:12:13.847197",
     "status": "completed"
    },
    "tags": []
   },
   "outputs": [],
   "source": [
    "import seaborn as sns\n",
    "import matplotlib.pyplot as plt"
   ]
  },
  {
   "cell_type": "code",
   "execution_count": 4,
   "id": "be29aa1a",
   "metadata": {
    "execution": {
     "iopub.execute_input": "2022-11-04T23:12:15.123773Z",
     "iopub.status.busy": "2022-11-04T23:12:15.123337Z",
     "iopub.status.idle": "2022-11-04T23:12:15.128561Z",
     "shell.execute_reply": "2022-11-04T23:12:15.127637Z"
    },
    "papermill": {
     "duration": 0.033386,
     "end_time": "2022-11-04T23:12:15.131237",
     "exception": false,
     "start_time": "2022-11-04T23:12:15.097851",
     "status": "completed"
    },
    "tags": []
   },
   "outputs": [],
   "source": [
    "# setting random seed for notebook reproducability\n",
    "rnd_seed=23\n",
    "np.random.seed=rnd_seed\n",
    "np.random.set_state=rnd_seed"
   ]
  },
  {
   "cell_type": "markdown",
   "id": "1c4c67e3",
   "metadata": {
    "papermill": {
     "duration": 0.022726,
     "end_time": "2022-11-04T23:12:15.177325",
     "exception": false,
     "start_time": "2022-11-04T23:12:15.154599",
     "status": "completed"
    },
    "tags": []
   },
   "source": [
    "#### Creating spark session"
   ]
  },
  {
   "cell_type": "code",
   "execution_count": 5,
   "id": "f36b335a",
   "metadata": {
    "execution": {
     "iopub.execute_input": "2022-11-04T23:12:15.225310Z",
     "iopub.status.busy": "2022-11-04T23:12:15.224874Z",
     "iopub.status.idle": "2022-11-04T23:12:22.377612Z",
     "shell.execute_reply": "2022-11-04T23:12:22.376480Z"
    },
    "papermill": {
     "duration": 7.18046,
     "end_time": "2022-11-04T23:12:22.380883",
     "exception": false,
     "start_time": "2022-11-04T23:12:15.200423",
     "status": "completed"
    },
    "tags": []
   },
   "outputs": [
    {
     "name": "stderr",
     "output_type": "stream",
     "text": [
      "Setting default log level to \"WARN\".\n",
      "To adjust logging level use sc.setLogLevel(newLevel). For SparkR, use setLogLevel(newLevel).\n"
     ]
    },
    {
     "name": "stdout",
     "output_type": "stream",
     "text": [
      "22/11/04 23:12:19 WARN NativeCodeLoader: Unable to load native-hadoop library for your platform... using builtin-java classes where applicable\n"
     ]
    },
    {
     "name": "stderr",
     "output_type": "stream",
     "text": [
      "/opt/conda/lib/python3.7/site-packages/pyspark/sql/context.py:114: FutureWarning: Deprecated in 3.0.0. Use SparkSession.builder.getOrCreate() instead.\n",
      "  FutureWarning,\n"
     ]
    },
    {
     "data": {
      "text/html": [
       "\n",
       "            <div>\n",
       "                <p><b>SparkSession - in-memory</b></p>\n",
       "                \n",
       "        <div>\n",
       "            <p><b>SparkContext</b></p>\n",
       "\n",
       "            <p><a href=\"http://6666cf9f87ee:4040\">Spark UI</a></p>\n",
       "\n",
       "            <dl>\n",
       "              <dt>Version</dt>\n",
       "                <dd><code>v3.3.1</code></dd>\n",
       "              <dt>Master</dt>\n",
       "                <dd><code>local[2]</code></dd>\n",
       "              <dt>AppName</dt>\n",
       "                <dd><code>Spaceship_rescue</code></dd>\n",
       "            </dl>\n",
       "        </div>\n",
       "        \n",
       "            </div>\n",
       "        "
      ],
      "text/plain": [
       "<pyspark.sql.session.SparkSession at 0x7f074b487350>"
      ]
     },
     "execution_count": 5,
     "metadata": {},
     "output_type": "execute_result"
    }
   ],
   "source": [
    "spark = SparkSession.builder.master(\"local[2]\").appName(\"Spaceship_rescue\").getOrCreate()\n",
    "sc = spark.sparkContext\n",
    "sqlContext = SQLContext(spark.sparkContext)\n",
    "spark"
   ]
  },
  {
   "cell_type": "markdown",
   "id": "a16aae21",
   "metadata": {
    "papermill": {
     "duration": 0.023824,
     "end_time": "2022-11-04T23:12:22.432796",
     "exception": false,
     "start_time": "2022-11-04T23:12:22.408972",
     "status": "completed"
    },
    "tags": []
   },
   "source": [
    "#### Read the data"
   ]
  },
  {
   "cell_type": "code",
   "execution_count": 6,
   "id": "decf9c5e",
   "metadata": {
    "execution": {
     "iopub.execute_input": "2022-11-04T23:12:22.482481Z",
     "iopub.status.busy": "2022-11-04T23:12:22.481928Z",
     "iopub.status.idle": "2022-11-04T23:12:28.479762Z",
     "shell.execute_reply": "2022-11-04T23:12:28.478397Z"
    },
    "papermill": {
     "duration": 6.028037,
     "end_time": "2022-11-04T23:12:28.484394",
     "exception": false,
     "start_time": "2022-11-04T23:12:22.456357",
     "status": "completed"
    },
    "tags": []
   },
   "outputs": [
    {
     "name": "stderr",
     "output_type": "stream",
     "text": [
      "                                                                                \r"
     ]
    }
   ],
   "source": [
    "train_data = '../input/spaceship-titanic/train.csv'\n",
    "test_data = '../input/spaceship-titanic/test.csv'\n",
    "df_train = spark.read.csv(train_data, header=True)\n",
    "df_test = spark.read.csv(test_data, header=True)"
   ]
  },
  {
   "cell_type": "markdown",
   "id": "a514a081",
   "metadata": {
    "papermill": {
     "duration": 0.023287,
     "end_time": "2022-11-04T23:12:28.538701",
     "exception": false,
     "start_time": "2022-11-04T23:12:28.515414",
     "status": "completed"
    },
    "tags": []
   },
   "source": [
    "#### Explore and clean the data"
   ]
  },
  {
   "cell_type": "code",
   "execution_count": 7,
   "id": "75b61f39",
   "metadata": {
    "execution": {
     "iopub.execute_input": "2022-11-04T23:12:28.587873Z",
     "iopub.status.busy": "2022-11-04T23:12:28.587423Z",
     "iopub.status.idle": "2022-11-04T23:12:28.632963Z",
     "shell.execute_reply": "2022-11-04T23:12:28.631744Z"
    },
    "papermill": {
     "duration": 0.073466,
     "end_time": "2022-11-04T23:12:28.635610",
     "exception": false,
     "start_time": "2022-11-04T23:12:28.562144",
     "status": "completed"
    },
    "tags": []
   },
   "outputs": [
    {
     "data": {
      "text/plain": [
       "['PassengerId',\n",
       " 'HomePlanet',\n",
       " 'CryoSleep',\n",
       " 'Cabin',\n",
       " 'Destination',\n",
       " 'Age',\n",
       " 'VIP',\n",
       " 'RoomService',\n",
       " 'FoodCourt',\n",
       " 'ShoppingMall',\n",
       " 'Spa',\n",
       " 'VRDeck',\n",
       " 'Name',\n",
       " 'Transported']"
      ]
     },
     "execution_count": 7,
     "metadata": {},
     "output_type": "execute_result"
    }
   ],
   "source": [
    "df_train.columns"
   ]
  },
  {
   "cell_type": "code",
   "execution_count": 8,
   "id": "6b09c3f0",
   "metadata": {
    "execution": {
     "iopub.execute_input": "2022-11-04T23:12:28.685548Z",
     "iopub.status.busy": "2022-11-04T23:12:28.684686Z",
     "iopub.status.idle": "2022-11-04T23:12:29.644118Z",
     "shell.execute_reply": "2022-11-04T23:12:29.642893Z"
    },
    "papermill": {
     "duration": 0.988248,
     "end_time": "2022-11-04T23:12:29.647561",
     "exception": false,
     "start_time": "2022-11-04T23:12:28.659313",
     "status": "completed"
    },
    "tags": []
   },
   "outputs": [
    {
     "data": {
      "text/plain": [
       "8693"
      ]
     },
     "execution_count": 8,
     "metadata": {},
     "output_type": "execute_result"
    }
   ],
   "source": [
    "df_train.count()"
   ]
  },
  {
   "cell_type": "markdown",
   "id": "c5a3f389",
   "metadata": {
    "papermill": {
     "duration": 0.032183,
     "end_time": "2022-11-04T23:12:29.715066",
     "exception": false,
     "start_time": "2022-11-04T23:12:29.682883",
     "status": "completed"
    },
    "tags": []
   },
   "source": [
    "#### Number of people with similar age group"
   ]
  },
  {
   "cell_type": "code",
   "execution_count": 9,
   "id": "bc7322d8",
   "metadata": {
    "execution": {
     "iopub.execute_input": "2022-11-04T23:12:29.768872Z",
     "iopub.status.busy": "2022-11-04T23:12:29.768243Z",
     "iopub.status.idle": "2022-11-04T23:12:32.563812Z",
     "shell.execute_reply": "2022-11-04T23:12:32.562443Z"
    },
    "papermill": {
     "duration": 2.824277,
     "end_time": "2022-11-04T23:12:32.566302",
     "exception": false,
     "start_time": "2022-11-04T23:12:29.742025",
     "status": "completed"
    },
    "tags": []
   },
   "outputs": [
    {
     "data": {
      "text/plain": [
       "<AxesSubplot:xlabel='age'>"
      ]
     },
     "execution_count": 9,
     "metadata": {},
     "output_type": "execute_result"
    },
    {
     "data": {
      "image/png": "[encoded data removed]",
      "text/plain": [
       "<Figure size 1152x432 with 1 Axes>"
      ]
     },
     "metadata": {
      "needs_background": "light"
     },
     "output_type": "display_data"
    }
   ],
   "source": [
    "result_df = df_train.groupBy(\"age\").count().sort(\"age\", ascending=False)\n",
    "result_df.toPandas().plot.bar(x='age',figsize=(16, 6))"
   ]
  },
  {
   "cell_type": "markdown",
   "id": "2ec8e7f8",
   "metadata": {
    "papermill": {
     "duration": 0.02433,
     "end_time": "2022-11-04T23:12:32.615339",
     "exception": false,
     "start_time": "2022-11-04T23:12:32.591009",
     "status": "completed"
    },
    "tags": []
   },
   "source": [
    "#### Count of people travelling from HomePlanet"
   ]
  },
  {
   "cell_type": "code",
   "execution_count": 10,
   "id": "564eb08c",
   "metadata": {
    "execution": {
     "iopub.execute_input": "2022-11-04T23:12:32.666430Z",
     "iopub.status.busy": "2022-11-04T23:12:32.666007Z",
     "iopub.status.idle": "2022-11-04T23:12:33.375104Z",
     "shell.execute_reply": "2022-11-04T23:12:33.373930Z"
    },
    "papermill": {
     "duration": 0.738863,
     "end_time": "2022-11-04T23:12:33.378756",
     "exception": false,
     "start_time": "2022-11-04T23:12:32.639893",
     "status": "completed"
    },
    "tags": []
   },
   "outputs": [
    {
     "name": "stdout",
     "output_type": "stream",
     "text": [
      "+----------+-----+\n",
      "|HomePlanet|count|\n",
      "+----------+-----+\n",
      "|      Mars| 1759|\n",
      "|    Europa| 2131|\n",
      "|     Earth| 4602|\n",
      "|      null|  201|\n",
      "+----------+-----+\n",
      "\n"
     ]
    }
   ],
   "source": [
    "df_train.groupBy(\"HomePlanet\").count().sort(\"HomePlanet\", ascending=False).show()"
   ]
  },
  {
   "cell_type": "markdown",
   "id": "4fe0e541",
   "metadata": {
    "papermill": {
     "duration": 0.036553,
     "end_time": "2022-11-04T23:12:33.451604",
     "exception": false,
     "start_time": "2022-11-04T23:12:33.415051",
     "status": "completed"
    },
    "tags": []
   },
   "source": [
    "#### Number of people under CryoSleep"
   ]
  },
  {
   "cell_type": "code",
   "execution_count": 11,
   "id": "8e2d22da",
   "metadata": {
    "execution": {
     "iopub.execute_input": "2022-11-04T23:12:33.529963Z",
     "iopub.status.busy": "2022-11-04T23:12:33.528577Z",
     "iopub.status.idle": "2022-11-04T23:12:33.860231Z",
     "shell.execute_reply": "2022-11-04T23:12:33.858949Z"
    },
    "papermill": {
     "duration": 0.377623,
     "end_time": "2022-11-04T23:12:33.866001",
     "exception": false,
     "start_time": "2022-11-04T23:12:33.488378",
     "status": "completed"
    },
    "tags": []
   },
   "outputs": [
    {
     "name": "stdout",
     "output_type": "stream",
     "text": [
      "+---------+-----+\n",
      "|CryoSleep|count|\n",
      "+---------+-----+\n",
      "|     True| 3037|\n",
      "|    False| 5439|\n",
      "|     null|  217|\n",
      "+---------+-----+\n",
      "\n"
     ]
    }
   ],
   "source": [
    "df_train.groupBy(\"CryoSleep\").count().sort(\"CryoSleep\", ascending=False).show()"
   ]
  },
  {
   "cell_type": "markdown",
   "id": "b325dff9",
   "metadata": {
    "papermill": {
     "duration": 0.02459,
     "end_time": "2022-11-04T23:12:33.917255",
     "exception": false,
     "start_time": "2022-11-04T23:12:33.892665",
     "status": "completed"
    },
    "tags": []
   },
   "source": [
    "This shows that, we do not have data for 217 pepole whether they are in cryosleep or not!"
   ]
  },
  {
   "cell_type": "markdown",
   "id": "c6eabb91",
   "metadata": {
    "papermill": {
     "duration": 0.0244,
     "end_time": "2022-11-04T23:12:33.966548",
     "exception": false,
     "start_time": "2022-11-04T23:12:33.942148",
     "status": "completed"
    },
    "tags": []
   },
   "source": [
    "#### Count of Null Values in our data"
   ]
  },
  {
   "cell_type": "code",
   "execution_count": 12,
   "id": "26e1f49f",
   "metadata": {
    "execution": {
     "iopub.execute_input": "2022-11-04T23:12:34.020141Z",
     "iopub.status.busy": "2022-11-04T23:12:34.017976Z",
     "iopub.status.idle": "2022-11-04T23:12:35.498567Z",
     "shell.execute_reply": "2022-11-04T23:12:35.497104Z"
    },
    "papermill": {
     "duration": 1.51278,
     "end_time": "2022-11-04T23:12:35.504443",
     "exception": false,
     "start_time": "2022-11-04T23:12:33.991663",
     "status": "completed"
    },
    "tags": []
   },
   "outputs": [
    {
     "name": "stdout",
     "output_type": "stream",
     "text": [
      "+-----------+----------+---------+-----+-----------+---+---+-----------+---------+------------+---+------+----+-----------+\n",
      "|PassengerId|HomePlanet|CryoSleep|Cabin|Destination|Age|VIP|RoomService|FoodCourt|ShoppingMall|Spa|VRDeck|Name|Transported|\n",
      "+-----------+----------+---------+-----+-----------+---+---+-----------+---------+------------+---+------+----+-----------+\n",
      "|          0|       201|      217|  199|        182|179|203|        181|      183|         208|183|   188| 200|          0|\n",
      "+-----------+----------+---------+-----+-----------+---+---+-----------+---------+------------+---+------+----+-----------+\n",
      "\n"
     ]
    },
    {
     "name": "stderr",
     "output_type": "stream",
     "text": [
      "                                                                                \r"
     ]
    }
   ],
   "source": [
    "from pyspark.sql.functions import col,isnan,when,count\n",
    "df2 = df_train.select([count(when(col(c).contains('None') | \\\n",
    "                            col(c).contains('NULL') | \\\n",
    "                            (col(c) == '' ) | \\\n",
    "                            col(c).isNull() | \\\n",
    "                            isnan(c), c \n",
    "                           )).alias(c)\n",
    "                    for c in df_train.columns])\n",
    "df2.show()"
   ]
  },
  {
   "cell_type": "markdown",
   "id": "ef3c7eab",
   "metadata": {
    "papermill": {
     "duration": 0.024873,
     "end_time": "2022-11-04T23:12:35.555482",
     "exception": false,
     "start_time": "2022-11-04T23:12:35.530609",
     "status": "completed"
    },
    "tags": []
   },
   "source": [
    "#### Number of VIP people"
   ]
  },
  {
   "cell_type": "code",
   "execution_count": 13,
   "id": "c93a9ab2",
   "metadata": {
    "execution": {
     "iopub.execute_input": "2022-11-04T23:12:35.608180Z",
     "iopub.status.busy": "2022-11-04T23:12:35.606711Z",
     "iopub.status.idle": "2022-11-04T23:12:36.019241Z",
     "shell.execute_reply": "2022-11-04T23:12:36.017956Z"
    },
    "papermill": {
     "duration": 0.446219,
     "end_time": "2022-11-04T23:12:36.026835",
     "exception": false,
     "start_time": "2022-11-04T23:12:35.580616",
     "status": "completed"
    },
    "tags": []
   },
   "outputs": [
    {
     "name": "stdout",
     "output_type": "stream",
     "text": [
      "+-----+-----+\n",
      "|  VIP|count|\n",
      "+-----+-----+\n",
      "| True|  199|\n",
      "|False| 8291|\n",
      "| null|  203|\n",
      "+-----+-----+\n",
      "\n"
     ]
    }
   ],
   "source": [
    "df_train.groupBy(\"VIP\").count().sort(\"VIP\", ascending=False).show()"
   ]
  },
  {
   "cell_type": "markdown",
   "id": "61dd8416",
   "metadata": {
    "papermill": {
     "duration": 0.036844,
     "end_time": "2022-11-04T23:12:36.101128",
     "exception": false,
     "start_time": "2022-11-04T23:12:36.064284",
     "status": "completed"
    },
    "tags": []
   },
   "source": [
    "Total of 199 people are VIP's"
   ]
  },
  {
   "cell_type": "markdown",
   "id": "d2045e61",
   "metadata": {
    "papermill": {
     "duration": 0.035955,
     "end_time": "2022-11-04T23:12:36.173816",
     "exception": false,
     "start_time": "2022-11-04T23:12:36.137861",
     "status": "completed"
    },
    "tags": []
   },
   "source": [
    "#### Number of people travelling to each destinations"
   ]
  },
  {
   "cell_type": "code",
   "execution_count": 14,
   "id": "a2414238",
   "metadata": {
    "execution": {
     "iopub.execute_input": "2022-11-04T23:12:36.250159Z",
     "iopub.status.busy": "2022-11-04T23:12:36.249467Z",
     "iopub.status.idle": "2022-11-04T23:12:36.730679Z",
     "shell.execute_reply": "2022-11-04T23:12:36.729298Z"
    },
    "papermill": {
     "duration": 0.523522,
     "end_time": "2022-11-04T23:12:36.734275",
     "exception": false,
     "start_time": "2022-11-04T23:12:36.210753",
     "status": "completed"
    },
    "tags": []
   },
   "outputs": [
    {
     "data": {
      "text/plain": [
       "<AxesSubplot:xlabel='Destination'>"
      ]
     },
     "execution_count": 14,
     "metadata": {},
     "output_type": "execute_result"
    },
    {
     "data": {
      "image/png": "[encoded data removed]",
      "text/plain": [
       "<Figure size 576x288 with 1 Axes>"
      ]
     },
     "metadata": {
      "needs_background": "light"
     },
     "output_type": "display_data"
    }
   ],
   "source": [
    "group_dest = df_train.groupBy(\"Destination\").count()\n",
    "group_dest.toPandas().plot.bar(x='Destination',figsize=(8, 4))\n",
    "#pandas_df.groupby('Destination').size().plot(kind='pie', autopct='%.2f')"
   ]
  },
  {
   "cell_type": "markdown",
   "id": "8c0dd78f",
   "metadata": {
    "papermill": {
     "duration": 0.025193,
     "end_time": "2022-11-04T23:12:36.789060",
     "exception": false,
     "start_time": "2022-11-04T23:12:36.763867",
     "status": "completed"
    },
    "tags": []
   },
   "source": [
    "#### Change dtypes"
   ]
  },
  {
   "cell_type": "code",
   "execution_count": 15,
   "id": "f11d9ed7",
   "metadata": {
    "execution": {
     "iopub.execute_input": "2022-11-04T23:12:36.843168Z",
     "iopub.status.busy": "2022-11-04T23:12:36.841927Z",
     "iopub.status.idle": "2022-11-04T23:12:37.073234Z",
     "shell.execute_reply": "2022-11-04T23:12:37.072175Z"
    },
    "papermill": {
     "duration": 0.262196,
     "end_time": "2022-11-04T23:12:37.076822",
     "exception": false,
     "start_time": "2022-11-04T23:12:36.814626",
     "status": "completed"
    },
    "tags": []
   },
   "outputs": [],
   "source": [
    "from pyspark.sql.functions import col\n",
    "from pyspark.sql.types import StringType,BooleanType,DateType, DoubleType, IntegerType\n",
    "df_train = df_train.withColumn(\"CryoSleep\",col(\"CryoSleep\").cast(BooleanType()).cast(IntegerType()))\\\n",
    "    .withColumn(\"Age\",col(\"Age\").cast(DoubleType()))\\\n",
    "    .withColumn(\"VIP\",col(\"VIP\").cast(BooleanType()).cast(IntegerType()))\\\n",
    "    .withColumn(\"RoomService\", col(\"RoomService\").cast(DoubleType()))\\\n",
    "    .withColumn(\"FoodCourt\", col(\"FoodCourt\").cast(DoubleType()))\\\n",
    "    .withColumn(\"ShoppingMall\", col(\"ShoppingMall\").cast(DoubleType()))\\\n",
    "    .withColumn(\"Spa\", col(\"Spa\").cast(DoubleType()))\\\n",
    "    .withColumn(\"VRDeck\", col(\"VRDeck\").cast(DoubleType()))\\\n",
    "    .withColumn(\"Transported\", col(\"Transported\").cast(BooleanType()).cast(IntegerType()))"
   ]
  },
  {
   "cell_type": "markdown",
   "id": "bad516c2",
   "metadata": {
    "papermill": {
     "duration": 0.025843,
     "end_time": "2022-11-04T23:12:37.142129",
     "exception": false,
     "start_time": "2022-11-04T23:12:37.116286",
     "status": "completed"
    },
    "tags": []
   },
   "source": [
    "#### Drop unnecessary columns"
   ]
  },
  {
   "cell_type": "code",
   "execution_count": 16,
   "id": "23f624e7",
   "metadata": {
    "execution": {
     "iopub.execute_input": "2022-11-04T23:12:37.198356Z",
     "iopub.status.busy": "2022-11-04T23:12:37.197270Z",
     "iopub.status.idle": "2022-11-04T23:12:37.222283Z",
     "shell.execute_reply": "2022-11-04T23:12:37.220725Z"
    },
    "papermill": {
     "duration": 0.055616,
     "end_time": "2022-11-04T23:12:37.225314",
     "exception": false,
     "start_time": "2022-11-04T23:12:37.169698",
     "status": "completed"
    },
    "tags": []
   },
   "outputs": [
    {
     "name": "stdout",
     "output_type": "stream",
     "text": [
      "root\n",
      " |-- HomePlanet: string (nullable = true)\n",
      " |-- CryoSleep: integer (nullable = true)\n",
      " |-- Destination: string (nullable = true)\n",
      " |-- Age: double (nullable = true)\n",
      " |-- VIP: integer (nullable = true)\n",
      " |-- ShoppingMall: double (nullable = true)\n",
      " |-- VRDeck: double (nullable = true)\n",
      " |-- Transported: integer (nullable = true)\n",
      "\n"
     ]
    }
   ],
   "source": [
    "cols = ('Cabin','RoomService', 'FoodCourt', 'Spa', 'Name', 'PassengerId')\n",
    "df_train = df_train.drop(*cols)\n",
    "df_train.printSchema()"
   ]
  },
  {
   "cell_type": "code",
   "execution_count": 17,
   "id": "0de3d4b0",
   "metadata": {
    "execution": {
     "iopub.execute_input": "2022-11-04T23:12:37.280106Z",
     "iopub.status.busy": "2022-11-04T23:12:37.279711Z",
     "iopub.status.idle": "2022-11-04T23:12:37.402856Z",
     "shell.execute_reply": "2022-11-04T23:12:37.401355Z"
    },
    "papermill": {
     "duration": 0.154884,
     "end_time": "2022-11-04T23:12:37.407436",
     "exception": false,
     "start_time": "2022-11-04T23:12:37.252552",
     "status": "completed"
    },
    "tags": []
   },
   "outputs": [],
   "source": [
    "from pyspark.sql.functions import when\n",
    "from pyspark.sql.functions import regexp_replace\n",
    "\n",
    "df_train_temp = df_train\n",
    "\n",
    "df_train = df_train.withColumn('HomePlanet', \n",
    "      when(df_train.HomePlanet.startswith('Eart'),regexp_replace(df_train.HomePlanet,'Earth', '0')) \\\n",
    "     .when(df_train.HomePlanet.startswith('Europ'),regexp_replace(df_train.HomePlanet,'Europa','1')) \\\n",
    "     .when(df_train.HomePlanet.startswith('Mar'),regexp_replace(df_train.HomePlanet,'Mars','2')) \\\n",
    "     .otherwise(df_train.HomePlanet))\n",
    "\n",
    "df_train = df_train.withColumn('Destination', \n",
    "      when(df_train.Destination.startswith('TRAPPIST-1e'),regexp_replace(df_train.Destination,'TRAPPIST-1e', '0')) \\\n",
    "     .when(df_train.Destination.startswith('55 Cancri e'),regexp_replace(df_train.Destination,'55 Cancri e','1')) \\\n",
    "     .when(df_train.Destination.startswith('PSO J318.5-22'),regexp_replace(df_train.Destination,'PSO J318.5-22','2')) \\\n",
    "     .otherwise(df_train.Destination))\n",
    "\n",
    "df_train = df_train.withColumn(\"Destination\",col(\"Destination\").cast(IntegerType()))\\\n",
    "    .withColumn(\"HomePlanet\",col(\"HomePlanet\").cast(IntegerType()))"
   ]
  },
  {
   "cell_type": "code",
   "execution_count": 18,
   "id": "ee61d847",
   "metadata": {
    "execution": {
     "iopub.execute_input": "2022-11-04T23:12:37.477613Z",
     "iopub.status.busy": "2022-11-04T23:12:37.477097Z",
     "iopub.status.idle": "2022-11-04T23:12:37.483762Z",
     "shell.execute_reply": "2022-11-04T23:12:37.482776Z"
    },
    "papermill": {
     "duration": 0.038959,
     "end_time": "2022-11-04T23:12:37.486942",
     "exception": false,
     "start_time": "2022-11-04T23:12:37.447983",
     "status": "completed"
    },
    "tags": []
   },
   "outputs": [
    {
     "name": "stdout",
     "output_type": "stream",
     "text": [
      "root\n",
      " |-- HomePlanet: integer (nullable = true)\n",
      " |-- CryoSleep: integer (nullable = true)\n",
      " |-- Destination: integer (nullable = true)\n",
      " |-- Age: double (nullable = true)\n",
      " |-- VIP: integer (nullable = true)\n",
      " |-- ShoppingMall: double (nullable = true)\n",
      " |-- VRDeck: double (nullable = true)\n",
      " |-- Transported: integer (nullable = true)\n",
      "\n"
     ]
    }
   ],
   "source": [
    "df_train.printSchema()"
   ]
  },
  {
   "cell_type": "markdown",
   "id": "d42368fa",
   "metadata": {
    "papermill": {
     "duration": 0.02807,
     "end_time": "2022-11-04T23:12:37.542979",
     "exception": false,
     "start_time": "2022-11-04T23:12:37.514909",
     "status": "completed"
    },
    "tags": []
   },
   "source": [
    "#### Remove null values"
   ]
  },
  {
   "cell_type": "code",
   "execution_count": 19,
   "id": "31d93322",
   "metadata": {
    "execution": {
     "iopub.execute_input": "2022-11-04T23:12:37.597784Z",
     "iopub.status.busy": "2022-11-04T23:12:37.597357Z",
     "iopub.status.idle": "2022-11-04T23:12:38.086007Z",
     "shell.execute_reply": "2022-11-04T23:12:38.084690Z"
    },
    "papermill": {
     "duration": 0.520325,
     "end_time": "2022-11-04T23:12:38.089381",
     "exception": false,
     "start_time": "2022-11-04T23:12:37.569056",
     "status": "completed"
    },
    "tags": []
   },
   "outputs": [
    {
     "data": {
      "text/plain": [
       "7396"
      ]
     },
     "execution_count": 19,
     "metadata": {},
     "output_type": "execute_result"
    }
   ],
   "source": [
    "df_train = df_train.na.drop(\"any\")\n",
    "df_train.count()"
   ]
  },
  {
   "cell_type": "code",
   "execution_count": 20,
   "id": "12663239",
   "metadata": {
    "execution": {
     "iopub.execute_input": "2022-11-04T23:12:38.144497Z",
     "iopub.status.busy": "2022-11-04T23:12:38.144090Z",
     "iopub.status.idle": "2022-11-04T23:12:39.055760Z",
     "shell.execute_reply": "2022-11-04T23:12:39.054331Z"
    },
    "papermill": {
     "duration": 0.944067,
     "end_time": "2022-11-04T23:12:39.060105",
     "exception": false,
     "start_time": "2022-11-04T23:12:38.116038",
     "status": "completed"
    },
    "tags": []
   },
   "outputs": [
    {
     "name": "stdout",
     "output_type": "stream",
     "text": [
      "+----------+---------+-----------+---+---+------------+------+-----------+\n",
      "|HomePlanet|CryoSleep|Destination|Age|VIP|ShoppingMall|VRDeck|Transported|\n",
      "+----------+---------+-----------+---+---+------------+------+-----------+\n",
      "|         0|        0|          0|  0|  0|           0|     0|          0|\n",
      "+----------+---------+-----------+---+---+------------+------+-----------+\n",
      "\n"
     ]
    }
   ],
   "source": [
    "from pyspark.sql.functions import col,isnan,when,count\n",
    "df2 = df_train.select([count(when(col(c).contains('None') | \\\n",
    "                            col(c).contains('NULL') | \\\n",
    "                            (col(c) == '' ) | \\\n",
    "                            col(c).isNull() | \\\n",
    "                            isnan(c), c \n",
    "                           )).alias(c)\n",
    "                    for c in df_train.columns])\n",
    "df2.show()"
   ]
  },
  {
   "cell_type": "markdown",
   "id": "f1ed50be",
   "metadata": {
    "papermill": {
     "duration": 0.039606,
     "end_time": "2022-11-04T23:12:39.139102",
     "exception": false,
     "start_time": "2022-11-04T23:12:39.099496",
     "status": "completed"
    },
    "tags": []
   },
   "source": [
    "#### Model Building - Random Forest"
   ]
  },
  {
   "cell_type": "code",
   "execution_count": 21,
   "id": "18df988c",
   "metadata": {
    "execution": {
     "iopub.execute_input": "2022-11-04T23:12:39.222866Z",
     "iopub.status.busy": "2022-11-04T23:12:39.221266Z",
     "iopub.status.idle": "2022-11-04T23:12:39.239654Z",
     "shell.execute_reply": "2022-11-04T23:12:39.238320Z"
    },
    "papermill": {
     "duration": 0.062793,
     "end_time": "2022-11-04T23:12:39.243130",
     "exception": false,
     "start_time": "2022-11-04T23:12:39.180337",
     "status": "completed"
    },
    "tags": []
   },
   "outputs": [],
   "source": [
    "df_train = df_train.withColumnRenamed('Transported',\"label\")\n",
    "features = df_train.columns[0:-1]"
   ]
  },
  {
   "cell_type": "code",
   "execution_count": 22,
   "id": "aa18a830",
   "metadata": {
    "execution": {
     "iopub.execute_input": "2022-11-04T23:12:39.323130Z",
     "iopub.status.busy": "2022-11-04T23:12:39.321800Z",
     "iopub.status.idle": "2022-11-04T23:12:40.355720Z",
     "shell.execute_reply": "2022-11-04T23:12:40.354181Z"
    },
    "papermill": {
     "duration": 1.075744,
     "end_time": "2022-11-04T23:12:40.358793",
     "exception": false,
     "start_time": "2022-11-04T23:12:39.283049",
     "status": "completed"
    },
    "tags": []
   },
   "outputs": [
    {
     "name": "stdout",
     "output_type": "stream",
     "text": [
      "+--------------------+-----+\n",
      "|            features|label|\n",
      "+--------------------+-----+\n",
      "|(7,[0,3],[1.0,39.0])|    0|\n",
      "|(7,[3,5,6],[24.0,...|    1|\n",
      "|[1.0,0.0,0.0,58.0...|    0|\n",
      "+--------------------+-----+\n",
      "only showing top 3 rows\n",
      "\n"
     ]
    }
   ],
   "source": [
    "from sklearn.metrics import confusion_matrix\n",
    "from pyspark.ml.feature import VectorAssembler\n",
    "from pyspark.ml.classification import RandomForestClassifier\n",
    "from pyspark.ml import Pipeline\n",
    "from pyspark.ml.tuning import ParamGridBuilder\n",
    "import numpy as np\n",
    "from pyspark.ml.tuning import CrossValidator\n",
    "from pyspark.ml.evaluation import RegressionEvaluator\n",
    "from pyspark.ml.evaluation import MulticlassClassificationEvaluator\n",
    "\n",
    "va = VectorAssembler(inputCols = features, outputCol='features')\n",
    "\n",
    "va_df = va.transform(df_train)\n",
    "va_df = va_df.select(['features', 'label'])\n",
    "va_df.show(3)"
   ]
  },
  {
   "cell_type": "markdown",
   "id": "7116334d",
   "metadata": {
    "papermill": {
     "duration": 0.040678,
     "end_time": "2022-11-04T23:12:40.438620",
     "exception": false,
     "start_time": "2022-11-04T23:12:40.397942",
     "status": "completed"
    },
    "tags": []
   },
   "source": [
    "#### Split the dataset to train and test"
   ]
  },
  {
   "cell_type": "code",
   "execution_count": 23,
   "id": "6eed48b1",
   "metadata": {
    "execution": {
     "iopub.execute_input": "2022-11-04T23:12:40.518210Z",
     "iopub.status.busy": "2022-11-04T23:12:40.517671Z",
     "iopub.status.idle": "2022-11-04T23:12:40.541934Z",
     "shell.execute_reply": "2022-11-04T23:12:40.540558Z"
    },
    "papermill": {
     "duration": 0.067262,
     "end_time": "2022-11-04T23:12:40.545496",
     "exception": false,
     "start_time": "2022-11-04T23:12:40.478234",
     "status": "completed"
    },
    "tags": []
   },
   "outputs": [],
   "source": [
    "(train, test) = va_df.randomSplit([0.8, 0.2])"
   ]
  },
  {
   "cell_type": "code",
   "execution_count": 24,
   "id": "dea6c39f",
   "metadata": {
    "execution": {
     "iopub.execute_input": "2022-11-04T23:12:40.609467Z",
     "iopub.status.busy": "2022-11-04T23:12:40.609013Z",
     "iopub.status.idle": "2022-11-04T23:14:45.353520Z",
     "shell.execute_reply": "2022-11-04T23:14:45.352528Z"
    },
    "papermill": {
     "duration": 124.783287,
     "end_time": "2022-11-04T23:14:45.358923",
     "exception": false,
     "start_time": "2022-11-04T23:12:40.575636",
     "status": "completed"
    },
    "tags": []
   },
   "outputs": [
    {
     "name": "stderr",
     "output_type": "stream",
     "text": [
      "                                                                                \r"
     ]
    },
    {
     "name": "stdout",
     "output_type": "stream",
     "text": [
      "22/11/04 23:12:58 WARN DAGScheduler: Broadcasting large task binary with size 1171.2 KiB\n",
      "22/11/04 23:12:59 WARN DAGScheduler: Broadcasting large task binary with size 1445.2 KiB\n",
      "22/11/04 23:12:59 WARN DAGScheduler: Broadcasting large task binary with size 1707.7 KiB\n",
      "22/11/04 23:13:00 WARN DAGScheduler: Broadcasting large task binary with size 1940.0 KiB\n",
      "22/11/04 23:13:00 WARN DAGScheduler: Broadcasting large task binary with size 2.1 MiB\n",
      "22/11/04 23:13:00 WARN DAGScheduler: Broadcasting large task binary with size 2.2 MiB\n",
      "22/11/04 23:13:01 WARN DAGScheduler: Broadcasting large task binary with size 1256.7 KiB\n",
      "22/11/04 23:13:03 WARN DAGScheduler: Broadcasting large task binary with size 1171.2 KiB\n",
      "22/11/04 23:13:04 WARN DAGScheduler: Broadcasting large task binary with size 1445.2 KiB\n",
      "22/11/04 23:13:04 WARN DAGScheduler: Broadcasting large task binary with size 1707.7 KiB\n",
      "22/11/04 23:13:04 WARN DAGScheduler: Broadcasting large task binary with size 1940.0 KiB\n",
      "22/11/04 23:13:05 WARN DAGScheduler: Broadcasting large task binary with size 2.1 MiB\n",
      "22/11/04 23:13:05 WARN DAGScheduler: Broadcasting large task binary with size 2.2 MiB\n",
      "22/11/04 23:13:05 WARN DAGScheduler: Broadcasting large task binary with size 2.4 MiB\n",
      "22/11/04 23:13:06 WARN DAGScheduler: Broadcasting large task binary with size 2.5 MiB\n",
      "22/11/04 23:13:06 WARN DAGScheduler: Broadcasting large task binary with size 2.4 MiB\n",
      "22/11/04 23:13:06 WARN DAGScheduler: Broadcasting large task binary with size 2.3 MiB\n",
      "22/11/04 23:13:07 WARN DAGScheduler: Broadcasting large task binary with size 2.1 MiB\n",
      "22/11/04 23:13:07 WARN DAGScheduler: Broadcasting large task binary with size 1723.4 KiB\n",
      "22/11/04 23:13:07 WARN DAGScheduler: Broadcasting large task binary with size 1119.3 KiB\n",
      "22/11/04 23:13:08 WARN DAGScheduler: Broadcasting large task binary with size 1398.9 KiB\n",
      "22/11/04 23:13:12 WARN DAGScheduler: Broadcasting large task binary with size 1308.2 KiB\n",
      "22/11/04 23:13:13 WARN DAGScheduler: Broadcasting large task binary with size 1694.9 KiB\n",
      "22/11/04 23:13:13 WARN DAGScheduler: Broadcasting large task binary with size 2.1 MiB\n",
      "22/11/04 23:13:14 WARN DAGScheduler: Broadcasting large task binary with size 2.4 MiB\n",
      "22/11/04 23:13:14 WARN DAGScheduler: Broadcasting large task binary with size 2.8 MiB\n",
      "22/11/04 23:13:15 WARN DAGScheduler: Broadcasting large task binary with size 3.1 MiB\n",
      "22/11/04 23:13:15 WARN DAGScheduler: Broadcasting large task binary with size 3.4 MiB\n",
      "22/11/04 23:13:16 WARN DAGScheduler: Broadcasting large task binary with size 1863.0 KiB\n",
      "22/11/04 23:13:19 WARN DAGScheduler: Broadcasting large task binary with size 1308.2 KiB\n",
      "22/11/04 23:13:19 WARN DAGScheduler: Broadcasting large task binary with size 1694.9 KiB\n",
      "22/11/04 23:13:20 WARN DAGScheduler: Broadcasting large task binary with size 2.1 MiB\n",
      "22/11/04 23:13:20 WARN DAGScheduler: Broadcasting large task binary with size 2.4 MiB\n",
      "22/11/04 23:13:21 WARN DAGScheduler: Broadcasting large task binary with size 2.8 MiB\n",
      "22/11/04 23:13:21 WARN DAGScheduler: Broadcasting large task binary with size 3.1 MiB\n",
      "22/11/04 23:13:22 WARN DAGScheduler: Broadcasting large task binary with size 3.4 MiB\n",
      "22/11/04 23:13:22 WARN DAGScheduler: Broadcasting large task binary with size 3.6 MiB\n",
      "22/11/04 23:13:23 WARN DAGScheduler: Broadcasting large task binary with size 3.7 MiB\n",
      "22/11/04 23:13:23 WARN DAGScheduler: Broadcasting large task binary with size 3.6 MiB\n",
      "22/11/04 23:13:24 WARN DAGScheduler: Broadcasting large task binary with size 3.1 MiB\n",
      "22/11/04 23:13:24 WARN DAGScheduler: Broadcasting large task binary with size 2.8 MiB\n",
      "22/11/04 23:13:25 WARN DAGScheduler: Broadcasting large task binary with size 2.2 MiB\n",
      "22/11/04 23:13:25 WARN DAGScheduler: Broadcasting large task binary with size 1554.9 KiB\n",
      "22/11/04 23:13:25 WARN DAGScheduler: Broadcasting large task binary with size 1161.0 KiB\n",
      "22/11/04 23:13:26 WARN DAGScheduler: Broadcasting large task binary with size 2.1 MiB\n",
      "22/11/04 23:13:38 WARN DAGScheduler: Broadcasting large task binary with size 1171.9 KiB\n",
      "22/11/04 23:13:38 WARN DAGScheduler: Broadcasting large task binary with size 1431.2 KiB\n",
      "22/11/04 23:13:38 WARN DAGScheduler: Broadcasting large task binary with size 1678.7 KiB\n",
      "22/11/04 23:13:39 WARN DAGScheduler: Broadcasting large task binary with size 1898.6 KiB\n",
      "22/11/04 23:13:39 WARN DAGScheduler: Broadcasting large task binary with size 2.0 MiB\n",
      "22/11/04 23:13:39 WARN DAGScheduler: Broadcasting large task binary with size 2.2 MiB\n",
      "22/11/04 23:13:40 WARN DAGScheduler: Broadcasting large task binary with size 1222.3 KiB\n",
      "22/11/04 23:13:42 WARN DAGScheduler: Broadcasting large task binary with size 1171.9 KiB\n",
      "22/11/04 23:13:43 WARN DAGScheduler: Broadcasting large task binary with size 1431.2 KiB\n",
      "22/11/04 23:13:43 WARN DAGScheduler: Broadcasting large task binary with size 1678.7 KiB\n",
      "22/11/04 23:13:43 WARN DAGScheduler: Broadcasting large task binary with size 1898.6 KiB\n",
      "22/11/04 23:13:44 WARN DAGScheduler: Broadcasting large task binary with size 2.0 MiB\n",
      "22/11/04 23:13:44 WARN DAGScheduler: Broadcasting large task binary with size 2.2 MiB\n",
      "22/11/04 23:13:44 WARN DAGScheduler: Broadcasting large task binary with size 2.3 MiB\n",
      "22/11/04 23:13:45 WARN DAGScheduler: Broadcasting large task binary with size 2.4 MiB\n",
      "22/11/04 23:13:45 WARN DAGScheduler: Broadcasting large task binary with size 2.3 MiB\n",
      "22/11/04 23:13:45 WARN DAGScheduler: Broadcasting large task binary with size 2.2 MiB\n",
      "22/11/04 23:13:46 WARN DAGScheduler: Broadcasting large task binary with size 2.0 MiB\n",
      "22/11/04 23:13:46 WARN DAGScheduler: Broadcasting large task binary with size 1418.8 KiB\n",
      "22/11/04 23:13:46 WARN DAGScheduler: Broadcasting large task binary with size 1048.6 KiB\n",
      "22/11/04 23:13:47 WARN DAGScheduler: Broadcasting large task binary with size 1351.8 KiB\n",
      "22/11/04 23:13:51 WARN DAGScheduler: Broadcasting large task binary with size 1347.1 KiB\n",
      "22/11/04 23:13:51 WARN DAGScheduler: Broadcasting large task binary with size 1738.4 KiB\n",
      "22/11/04 23:13:52 WARN DAGScheduler: Broadcasting large task binary with size 2.1 MiB\n",
      "22/11/04 23:13:52 WARN DAGScheduler: Broadcasting large task binary with size 2.5 MiB\n",
      "22/11/04 23:13:53 WARN DAGScheduler: Broadcasting large task binary with size 2.9 MiB\n",
      "22/11/04 23:13:54 WARN DAGScheduler: Broadcasting large task binary with size 3.2 MiB\n",
      "22/11/04 23:13:54 WARN DAGScheduler: Broadcasting large task binary with size 3.4 MiB\n",
      "22/11/04 23:13:55 WARN DAGScheduler: Broadcasting large task binary with size 1897.4 KiB\n",
      "22/11/04 23:13:57 WARN DAGScheduler: Broadcasting large task binary with size 1347.1 KiB\n",
      "22/11/04 23:13:58 WARN DAGScheduler: Broadcasting large task binary with size 1738.4 KiB\n",
      "22/11/04 23:13:58 WARN DAGScheduler: Broadcasting large task binary with size 2.1 MiB\n",
      "22/11/04 23:13:59 WARN DAGScheduler: Broadcasting large task binary with size 2.5 MiB\n",
      "22/11/04 23:13:59 WARN DAGScheduler: Broadcasting large task binary with size 2.9 MiB\n",
      "22/11/04 23:14:00 WARN DAGScheduler: Broadcasting large task binary with size 3.2 MiB\n",
      "22/11/04 23:14:01 WARN DAGScheduler: Broadcasting large task binary with size 3.4 MiB\n",
      "22/11/04 23:14:01 WARN DAGScheduler: Broadcasting large task binary with size 3.6 MiB\n",
      "22/11/04 23:14:02 WARN DAGScheduler: Broadcasting large task binary with size 3.7 MiB\n",
      "22/11/04 23:14:02 WARN DAGScheduler: Broadcasting large task binary with size 3.8 MiB\n",
      "22/11/04 23:14:03 WARN DAGScheduler: Broadcasting large task binary with size 3.8 MiB\n",
      "22/11/04 23:14:03 WARN DAGScheduler: Broadcasting large task binary with size 3.1 MiB\n",
      "22/11/04 23:14:04 WARN DAGScheduler: Broadcasting large task binary with size 2.3 MiB\n",
      "22/11/04 23:14:04 WARN DAGScheduler: Broadcasting large task binary with size 1887.2 KiB\n",
      "22/11/04 23:14:04 WARN DAGScheduler: Broadcasting large task binary with size 1300.9 KiB\n",
      "22/11/04 23:14:05 WARN DAGScheduler: Broadcasting large task binary with size 2.1 MiB\n",
      "22/11/04 23:14:16 WARN DAGScheduler: Broadcasting large task binary with size 1181.1 KiB\n",
      "22/11/04 23:14:16 WARN DAGScheduler: Broadcasting large task binary with size 1453.2 KiB\n",
      "22/11/04 23:14:17 WARN DAGScheduler: Broadcasting large task binary with size 1715.1 KiB\n",
      "22/11/04 23:14:17 WARN DAGScheduler: Broadcasting large task binary with size 1945.8 KiB\n",
      "22/11/04 23:14:17 WARN DAGScheduler: Broadcasting large task binary with size 2.1 MiB\n",
      "22/11/04 23:14:18 WARN DAGScheduler: Broadcasting large task binary with size 2.3 MiB\n",
      "22/11/04 23:14:18 WARN DAGScheduler: Broadcasting large task binary with size 1281.7 KiB\n",
      "22/11/04 23:14:20 WARN DAGScheduler: Broadcasting large task binary with size 1181.1 KiB\n",
      "22/11/04 23:14:21 WARN DAGScheduler: Broadcasting large task binary with size 1453.2 KiB\n",
      "22/11/04 23:14:21 WARN DAGScheduler: Broadcasting large task binary with size 1715.1 KiB\n",
      "22/11/04 23:14:21 WARN DAGScheduler: Broadcasting large task binary with size 1945.8 KiB\n",
      "22/11/04 23:14:22 WARN DAGScheduler: Broadcasting large task binary with size 2.1 MiB\n",
      "22/11/04 23:14:22 WARN DAGScheduler: Broadcasting large task binary with size 2.3 MiB\n",
      "22/11/04 23:14:22 WARN DAGScheduler: Broadcasting large task binary with size 2.4 MiB\n",
      "22/11/04 23:14:23 WARN DAGScheduler: Broadcasting large task binary with size 2.5 MiB\n",
      "22/11/04 23:14:23 WARN DAGScheduler: Broadcasting large task binary with size 2.4 MiB\n",
      "22/11/04 23:14:23 WARN DAGScheduler: Broadcasting large task binary with size 2.2 MiB\n",
      "22/11/04 23:14:24 WARN DAGScheduler: Broadcasting large task binary with size 2.0 MiB\n",
      "22/11/04 23:14:24 WARN DAGScheduler: Broadcasting large task binary with size 1720.9 KiB\n",
      "22/11/04 23:14:24 WARN DAGScheduler: Broadcasting large task binary with size 1126.3 KiB\n",
      "22/11/04 23:14:24 WARN DAGScheduler: Broadcasting large task binary with size 1045.6 KiB\n",
      "22/11/04 23:14:25 WARN DAGScheduler: Broadcasting large task binary with size 1435.1 KiB\n",
      "22/11/04 23:14:28 WARN DAGScheduler: Broadcasting large task binary with size 1339.8 KiB\n",
      "22/11/04 23:14:29 WARN DAGScheduler: Broadcasting large task binary with size 1751.1 KiB\n",
      "22/11/04 23:14:29 WARN DAGScheduler: Broadcasting large task binary with size 2.1 MiB\n",
      "22/11/04 23:14:30 WARN DAGScheduler: Broadcasting large task binary with size 2.6 MiB\n",
      "22/11/04 23:14:30 WARN DAGScheduler: Broadcasting large task binary with size 3.0 MiB\n",
      "22/11/04 23:14:31 WARN DAGScheduler: Broadcasting large task binary with size 3.3 MiB\n",
      "22/11/04 23:14:31 WARN DAGScheduler: Broadcasting large task binary with size 3.5 MiB\n",
      "22/11/04 23:14:32 WARN DAGScheduler: Broadcasting large task binary with size 1980.5 KiB\n",
      "22/11/04 23:14:34 WARN DAGScheduler: Broadcasting large task binary with size 1339.8 KiB\n",
      "22/11/04 23:14:35 WARN DAGScheduler: Broadcasting large task binary with size 1751.1 KiB\n",
      "22/11/04 23:14:35 WARN DAGScheduler: Broadcasting large task binary with size 2.1 MiB\n",
      "22/11/04 23:14:36 WARN DAGScheduler: Broadcasting large task binary with size 2.6 MiB\n",
      "22/11/04 23:14:36 WARN DAGScheduler: Broadcasting large task binary with size 3.0 MiB\n",
      "22/11/04 23:14:37 WARN DAGScheduler: Broadcasting large task binary with size 3.3 MiB\n",
      "22/11/04 23:14:37 WARN DAGScheduler: Broadcasting large task binary with size 3.5 MiB\n",
      "22/11/04 23:14:38 WARN DAGScheduler: Broadcasting large task binary with size 3.8 MiB\n",
      "22/11/04 23:14:39 WARN DAGScheduler: Broadcasting large task binary with size 3.9 MiB\n",
      "22/11/04 23:14:39 WARN DAGScheduler: Broadcasting large task binary with size 3.8 MiB\n",
      "22/11/04 23:14:40 WARN DAGScheduler: Broadcasting large task binary with size 3.6 MiB\n",
      "22/11/04 23:14:40 WARN DAGScheduler: Broadcasting large task binary with size 3.3 MiB\n",
      "22/11/04 23:14:40 WARN DAGScheduler: Broadcasting large task binary with size 2.7 MiB\n",
      "22/11/04 23:14:41 WARN DAGScheduler: Broadcasting large task binary with size 1619.7 KiB\n",
      "22/11/04 23:14:41 WARN DAGScheduler: Broadcasting large task binary with size 1035.1 KiB\n",
      "22/11/04 23:14:42 WARN DAGScheduler: Broadcasting large task binary with size 2.2 MiB\n"
     ]
    }
   ],
   "source": [
    "rfc = RandomForestClassifier(featuresCol=\"features\", labelCol=\"label\")\n",
    "\n",
    "paramGrid = ParamGridBuilder() \\\n",
    "    .addGrid(rfc.numTrees, [int(x) for x in np.linspace(start = 10, stop = 50, num = 3)]) \\\n",
    "    .addGrid(rfc.maxDepth, [int(x) for x in np.linspace(start = 5, stop = 25, num = 3)]) \\\n",
    "    .build()\n",
    "\n",
    "crossval = CrossValidator(estimator=rfc,\n",
    "                          estimatorParamMaps=paramGrid,\n",
    "                          evaluator=RegressionEvaluator(),\n",
    "                          numFolds=3)\n",
    "\n",
    "cvModel = crossval.fit(train)\n",
    "predictions = cvModel.transform(test)"
   ]
  },
  {
   "cell_type": "code",
   "execution_count": 25,
   "id": "b5a7ee5a",
   "metadata": {
    "execution": {
     "iopub.execute_input": "2022-11-04T23:14:45.445755Z",
     "iopub.status.busy": "2022-11-04T23:14:45.445313Z",
     "iopub.status.idle": "2022-11-04T23:14:46.832646Z",
     "shell.execute_reply": "2022-11-04T23:14:46.829705Z"
    },
    "papermill": {
     "duration": 1.432169,
     "end_time": "2022-11-04T23:14:46.835635",
     "exception": false,
     "start_time": "2022-11-04T23:14:45.403466",
     "status": "completed"
    },
    "tags": []
   },
   "outputs": [
    {
     "name": "stdout",
     "output_type": "stream",
     "text": [
      "Prediction Accuracy:  0.7583024332040558\n",
      "Confusion Matrix:\n",
      "[[569 138]\n",
      " [218 549]]\n"
     ]
    }
   ],
   "source": [
    "evaluator=MulticlassClassificationEvaluator(predictionCol=\"prediction\")\n",
    "acc = evaluator.evaluate(predictions)\n",
    "print(\"Prediction Accuracy: \", acc)\n",
    "\n",
    "y_pred=predictions.select(\"prediction\").collect()\n",
    "y_orig=predictions.select(\"label\").collect()\n",
    "\n",
    "cm = confusion_matrix(y_orig, y_pred)\n",
    "print(\"Confusion Matrix:\")\n",
    "print(cm)"
   ]
  },
  {
   "cell_type": "markdown",
   "id": "24d31f25",
   "metadata": {
    "papermill": {
     "duration": 0.037554,
     "end_time": "2022-11-04T23:14:46.911957",
     "exception": false,
     "start_time": "2022-11-04T23:14:46.874403",
     "status": "completed"
    },
    "tags": []
   },
   "source": [
    "#### Evaluate for test data"
   ]
  },
  {
   "cell_type": "code",
   "execution_count": 26,
   "id": "71e4c78c",
   "metadata": {
    "execution": {
     "iopub.execute_input": "2022-11-04T23:14:46.990274Z",
     "iopub.status.busy": "2022-11-04T23:14:46.989796Z",
     "iopub.status.idle": "2022-11-04T23:14:47.296797Z",
     "shell.execute_reply": "2022-11-04T23:14:47.295430Z"
    },
    "papermill": {
     "duration": 0.353121,
     "end_time": "2022-11-04T23:14:47.303026",
     "exception": false,
     "start_time": "2022-11-04T23:14:46.949905",
     "status": "completed"
    },
    "tags": []
   },
   "outputs": [
    {
     "name": "stdout",
     "output_type": "stream",
     "text": [
      "root\n",
      " |-- HomePlanet: integer (nullable = true)\n",
      " |-- CryoSleep: integer (nullable = true)\n",
      " |-- Destination: integer (nullable = true)\n",
      " |-- Age: double (nullable = false)\n",
      " |-- VIP: integer (nullable = true)\n",
      " |-- ShoppingMall: double (nullable = false)\n",
      " |-- VRDeck: double (nullable = false)\n",
      "\n"
     ]
    }
   ],
   "source": [
    "cols = ('Cabin','RoomService', 'FoodCourt', 'Spa', 'Name', 'PassengerId')\n",
    "df_test_cp = df_test\n",
    "df_test = df_test.drop(*cols)\n",
    "\n",
    "df_test = df_test.withColumn(\"CryoSleep\",col(\"CryoSleep\").cast(BooleanType()).cast(IntegerType()))\\\n",
    "    .withColumn(\"Age\",col(\"Age\").cast(DoubleType()))\\\n",
    "    .withColumn(\"VIP\",col(\"VIP\").cast(BooleanType()).cast(IntegerType()))\\\n",
    "    .withColumn(\"ShoppingMall\", col(\"ShoppingMall\").cast(DoubleType()))\\\n",
    "    .withColumn(\"VRDeck\", col(\"VRDeck\").cast(DoubleType()))\n",
    "\n",
    "df_test = df_test.withColumn('HomePlanet', \n",
    "      when(df_test.HomePlanet.startswith('Eart'),regexp_replace(df_test.HomePlanet,'Earth', '0')) \\\n",
    "     .when(df_test.HomePlanet.startswith('Europ'),regexp_replace(df_test.HomePlanet,'Europa','1')) \\\n",
    "     .when(df_test.HomePlanet.startswith('Mar'),regexp_replace(df_test.HomePlanet,'Mars','2')) \\\n",
    "     .otherwise(df_test.HomePlanet))\n",
    "\n",
    "df_test = df_test.withColumn('Destination', \n",
    "      when(df_test.Destination.startswith('TRAPPIST-1e'),regexp_replace(df_test.Destination,'TRAPPIST-1e', '0')) \\\n",
    "     .when(df_test.Destination.startswith('55 Cancri e'),regexp_replace(df_test.Destination,'55 Cancri e','1')) \\\n",
    "     .when(df_test.Destination.startswith('PSO J318.5-22'),regexp_replace(df_test.Destination,'PSO J318.5-22','2')) \\\n",
    "     .otherwise(df_test.Destination))\n",
    "\n",
    "df_test = df_test.withColumn(\"Destination\",col(\"Destination\").cast(IntegerType()))\\\n",
    "    .withColumn(\"HomePlanet\",col(\"HomePlanet\").cast(IntegerType()))\n",
    "\n",
    "df_test = df_test.fillna(value=0)\n",
    "\n",
    "df_test.printSchema()"
   ]
  },
  {
   "cell_type": "code",
   "execution_count": 27,
   "id": "2fc5623d",
   "metadata": {
    "execution": {
     "iopub.execute_input": "2022-11-04T23:14:47.409110Z",
     "iopub.status.busy": "2022-11-04T23:14:47.408474Z",
     "iopub.status.idle": "2022-11-04T23:14:47.732097Z",
     "shell.execute_reply": "2022-11-04T23:14:47.727241Z"
    },
    "papermill": {
     "duration": 0.37632,
     "end_time": "2022-11-04T23:14:47.737452",
     "exception": false,
     "start_time": "2022-11-04T23:14:47.361132",
     "status": "completed"
    },
    "tags": []
   },
   "outputs": [
    {
     "name": "stdout",
     "output_type": "stream",
     "text": [
      "+--------------------+\n",
      "|            features|\n",
      "+--------------------+\n",
      "|(7,[1,3],[1.0,27.0])|\n",
      "|      (7,[3],[19.0])|\n",
      "|[1.0,1.0,1.0,31.0...|\n",
      "+--------------------+\n",
      "only showing top 3 rows\n",
      "\n"
     ]
    }
   ],
   "source": [
    "va = VectorAssembler(inputCols = features, outputCol='features')\n",
    "\n",
    "va_df_test = va.transform(df_test)\n",
    "va_df_test = va_df_test.select(['features'])\n",
    "va_df_test.show(3)"
   ]
  },
  {
   "cell_type": "code",
   "execution_count": 28,
   "id": "7be0354e",
   "metadata": {
    "execution": {
     "iopub.execute_input": "2022-11-04T23:14:47.857242Z",
     "iopub.status.busy": "2022-11-04T23:14:47.856729Z",
     "iopub.status.idle": "2022-11-04T23:14:47.956728Z",
     "shell.execute_reply": "2022-11-04T23:14:47.954894Z"
    },
    "papermill": {
     "duration": 0.162196,
     "end_time": "2022-11-04T23:14:47.960690",
     "exception": false,
     "start_time": "2022-11-04T23:14:47.798494",
     "status": "completed"
    },
    "tags": []
   },
   "outputs": [],
   "source": [
    "#cvModel = crossval.fit(train)\n",
    "y_test_predictions = cvModel.transform(va_df_test)"
   ]
  },
  {
   "cell_type": "code",
   "execution_count": 29,
   "id": "ee53b213",
   "metadata": {
    "execution": {
     "iopub.execute_input": "2022-11-04T23:14:48.042294Z",
     "iopub.status.busy": "2022-11-04T23:14:48.041840Z",
     "iopub.status.idle": "2022-11-04T23:14:49.186016Z",
     "shell.execute_reply": "2022-11-04T23:14:49.184644Z"
    },
    "papermill": {
     "duration": 1.188819,
     "end_time": "2022-11-04T23:14:49.189018",
     "exception": false,
     "start_time": "2022-11-04T23:14:48.000199",
     "status": "completed"
    },
    "tags": []
   },
   "outputs": [],
   "source": [
    "import pandas as pd\n",
    "df_test_cp = df_test_cp.toPandas()\n",
    "y_test_pred = y_test_predictions.toPandas()\n",
    "data={\"PassengerId\":df_test_cp['PassengerId'],\"Transported\":y_test_pred['prediction'].astype('bool')}\n",
    "data=pd.DataFrame(data)\n",
    "data=data.to_csv('submission.csv',index=False)"
   ]
  },
  {
   "cell_type": "code",
   "execution_count": 30,
   "id": "0bfefb43",
   "metadata": {
    "execution": {
     "iopub.execute_input": "2022-11-04T23:14:49.268109Z",
     "iopub.status.busy": "2022-11-04T23:14:49.267249Z",
     "iopub.status.idle": "2022-11-04T23:14:49.301606Z",
     "shell.execute_reply": "2022-11-04T23:14:49.299147Z"
    },
    "papermill": {
     "duration": 0.076284,
     "end_time": "2022-11-04T23:14:49.304783",
     "exception": false,
     "start_time": "2022-11-04T23:14:49.228499",
     "status": "completed"
    },
    "tags": []
   },
   "outputs": [
    {
     "data": {
      "text/html": [
       "<div>\n",
       "<style scoped>\n",
       "    .dataframe tbody tr th:only-of-type {\n",
       "        vertical-align: middle;\n",
       "    }\n",
       "\n",
       "    .dataframe tbody tr th {\n",
       "        vertical-align: top;\n",
       "    }\n",
       "\n",
       "    .dataframe thead th {\n",
       "        text-align: right;\n",
       "    }\n",
       "</style>\n",
       "<table border=\"1\" class=\"dataframe\">\n",
       "  <thead>\n",
       "    <tr style=\"text-align: right;\">\n",
       "      <th></th>\n",
       "      <th>PassengerId</th>\n",
       "      <th>Transported</th>\n",
       "    </tr>\n",
       "  </thead>\n",
       "  <tbody>\n",
       "    <tr>\n",
       "      <th>0</th>\n",
       "      <td>0013_01</td>\n",
       "      <td>True</td>\n",
       "    </tr>\n",
       "    <tr>\n",
       "      <th>1</th>\n",
       "      <td>0018_01</td>\n",
       "      <td>False</td>\n",
       "    </tr>\n",
       "    <tr>\n",
       "      <th>2</th>\n",
       "      <td>0019_01</td>\n",
       "      <td>True</td>\n",
       "    </tr>\n",
       "    <tr>\n",
       "      <th>3</th>\n",
       "      <td>0021_01</td>\n",
       "      <td>False</td>\n",
       "    </tr>\n",
       "    <tr>\n",
       "      <th>4</th>\n",
       "      <td>0023_01</td>\n",
       "      <td>False</td>\n",
       "    </tr>\n",
       "    <tr>\n",
       "      <th>...</th>\n",
       "      <td>...</td>\n",
       "      <td>...</td>\n",
       "    </tr>\n",
       "    <tr>\n",
       "      <th>4272</th>\n",
       "      <td>9266_02</td>\n",
       "      <td>True</td>\n",
       "    </tr>\n",
       "    <tr>\n",
       "      <th>4273</th>\n",
       "      <td>9269_01</td>\n",
       "      <td>False</td>\n",
       "    </tr>\n",
       "    <tr>\n",
       "      <th>4274</th>\n",
       "      <td>9271_01</td>\n",
       "      <td>True</td>\n",
       "    </tr>\n",
       "    <tr>\n",
       "      <th>4275</th>\n",
       "      <td>9273_01</td>\n",
       "      <td>False</td>\n",
       "    </tr>\n",
       "    <tr>\n",
       "      <th>4276</th>\n",
       "      <td>9277_01</td>\n",
       "      <td>True</td>\n",
       "    </tr>\n",
       "  </tbody>\n",
       "</table>\n",
       "<p>4277 rows × 2 columns</p>\n",
       "</div>"
      ],
      "text/plain": [
       "     PassengerId  Transported\n",
       "0        0013_01         True\n",
       "1        0018_01        False\n",
       "2        0019_01         True\n",
       "3        0021_01        False\n",
       "4        0023_01        False\n",
       "...          ...          ...\n",
       "4272     9266_02         True\n",
       "4273     9269_01        False\n",
       "4274     9271_01         True\n",
       "4275     9273_01        False\n",
       "4276     9277_01         True\n",
       "\n",
       "[4277 rows x 2 columns]"
      ]
     },
     "execution_count": 30,
     "metadata": {},
     "output_type": "execute_result"
    }
   ],
   "source": [
    "pd.read_csv('./submission.csv')"
   ]
  },
  {
   "cell_type": "code",
   "execution_count": null,
   "id": "7dd7446d",
   "metadata": {
    "papermill": {
     "duration": 0.038847,
     "end_time": "2022-11-04T23:14:49.383294",
     "exception": false,
     "start_time": "2022-11-04T23:14:49.344447",
     "status": "completed"
    },
    "tags": []
   },
   "outputs": [],
   "source": []
  }
 ],
 "metadata": {
  "kernelspec": {
   "display_name": "Python 3",
   "language": "python",
   "name": "python3"
  },
  "language_info": {
   "codemirror_mode": {
    "name": "ipython",
    "version": 3
   },
   "file_extension": ".py",
   "mimetype": "text/x-python",
   "name": "python",
   "nbconvert_exporter": "python",
   "pygments_lexer": "ipython3",
   "version": "3.7.12"
  },
  "papermill": {
   "default_parameters": {},
   "duration": 223.44359,
   "end_time": "2022-11-04T23:14:52.048785",
   "environment_variables": {},
   "exception": null,
   "input_path": "__notebook__.ipynb",
   "output_path": "__notebook__.ipynb",
   "parameters": {},
   "start_time": "2022-11-04T23:11:08.605195",
   "version": "2.3.4"
  }
 },
 "nbformat": 4,
 "nbformat_minor": 5
}
